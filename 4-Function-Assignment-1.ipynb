{
 "cells": [
  {
   "cell_type": "code",
   "execution_count": 3,
   "id": "b79da477-5df9-4c16-a8d5-b9325d534227",
   "metadata": {},
   "outputs": [],
   "source": [
    "# Create function"
   ]
  },
  {
   "cell_type": "code",
   "execution_count": 97,
   "id": "29885e8e-5e1a-4584-8dde-a7c50b84f136",
   "metadata": {},
   "outputs": [],
   "source": [
    "def Subfields():\n",
    "    listSubfields=[\"Machine Learning\",\"Neural Networks\",\"Neural Networks\",\"Robotics\",\"Speech Processing\",\"Natural Language Processing\"]\n",
    "    print(\"Sub-fields in AI are:\")\n",
    "    for subfields in listSubfields:\n",
    "        print(subfields)\n",
    "    \n",
    "    \n",
    "\n"
   ]
  },
  {
   "cell_type": "code",
   "execution_count": 99,
   "id": "18460089-c41b-4646-a2f6-d80bfca65bfb",
   "metadata": {},
   "outputs": [
    {
     "name": "stdout",
     "output_type": "stream",
     "text": [
      "Sub-fields in AI are:\n",
      "Machine Learning\n",
      "Neural Networks\n",
      "Neural Networks\n",
      "Robotics\n",
      "Speech Processing\n",
      "Natural Language Processing\n"
     ]
    }
   ],
   "source": [
    "Subfields()"
   ]
  },
  {
   "cell_type": "code",
   "execution_count": 27,
   "id": "d7954c11-6e55-4e3f-a09d-0d55e74a23c8",
   "metadata": {},
   "outputs": [],
   "source": [
    "# Create Function"
   ]
  },
  {
   "cell_type": "code",
   "execution_count": 29,
   "id": "1f884992-ae0a-4655-aee5-b6e6ddbd8b93",
   "metadata": {},
   "outputs": [],
   "source": [
    "def OddEven(num):\n",
    "    if(num%2==1):\n",
    "        print(num,\"is Odd number\")\n",
    "    else:\n",
    "        print(num,\"is Even number\")\n",
    "    "
   ]
  },
  {
   "cell_type": "code",
   "execution_count": 107,
   "id": "c7fe70f1-2124-403e-8e5d-b5359dda13c0",
   "metadata": {},
   "outputs": [
    {
     "name": "stdin",
     "output_type": "stream",
     "text": [
      "Enter a number: 52452\n"
     ]
    },
    {
     "name": "stdout",
     "output_type": "stream",
     "text": [
      "52452 is Even number\n"
     ]
    }
   ],
   "source": [
    "num=int(input(\"Enter a number:\"))\n",
    "OddEven(num)"
   ]
  },
  {
   "cell_type": "code",
   "execution_count": 37,
   "id": "6a80fec3-ae13-4dd0-9e8e-76f7eb9af352",
   "metadata": {},
   "outputs": [],
   "source": [
    "# Create Function"
   ]
  },
  {
   "cell_type": "code",
   "execution_count": 89,
   "id": "3ab3ea66-7852-4e0b-b23a-706c20e5eace",
   "metadata": {},
   "outputs": [],
   "source": [
    "def Eligible(gender,age):\n",
    "    if (gender==\"Male\"):\n",
    "        if(age>20):\n",
    "            print(\"Your Gender:\",gender)\n",
    "            print(\"Your Age:\", age)\n",
    "            print(\"ELIGIBLE\")\n",
    "        else:\n",
    "            print(\"Your Gender:\",gender)\n",
    "            print(\"Your Age:\", age)\n",
    "            print(\"NOT ELIGIBLE\")\n",
    "    elif (gender==\"Female\"):\n",
    "        if(age>17):\n",
    "            print(\"Your Gender:\",gender)\n",
    "            print(\"Your Age:\", age)\n",
    "            print(\"ELIGIBLE\")\n",
    "        else:\n",
    "            print(\"Your Gender:\",gender)\n",
    "            print(\"Your Age:\", age)\n",
    "            print(\"NOT ELIGIBLE\")"
   ]
  },
  {
   "cell_type": "code",
   "execution_count": 105,
   "id": "4d0faa7d-77c6-47f0-a3f0-2c16fb2e56a0",
   "metadata": {},
   "outputs": [
    {
     "name": "stdin",
     "output_type": "stream",
     "text": [
      "Enter Gender: Male\n",
      "Enter Age: 20\n"
     ]
    },
    {
     "name": "stdout",
     "output_type": "stream",
     "text": [
      "Your Gender: Male\n",
      "Your Age: 20\n",
      "NOT ELIGIBLE\n"
     ]
    }
   ],
   "source": [
    "gender=input(\"Enter Gender:\")\n",
    "age=int(input(\"Enter Age:\"))\n",
    "Eligible(gender,age)"
   ]
  },
  {
   "cell_type": "code",
   "execution_count": 85,
   "id": "066b490d-2e85-4f96-aaaa-6d960eaef482",
   "metadata": {},
   "outputs": [],
   "source": [
    "def percentage(sub1,sub2,sub3,sub4,sub5):\n",
    "    total=sub1+sub2+sub3+sub4+sub5\n",
    "    percentage=(total/500)*100\n",
    "    print(\"Total :\", total)\n",
    "    print(\"Percentage :\",percentage)"
   ]
  },
  {
   "cell_type": "code",
   "execution_count": 87,
   "id": "fd63b175-d591-49b4-9f09-73b465ce60db",
   "metadata": {},
   "outputs": [
    {
     "name": "stdin",
     "output_type": "stream",
     "text": [
      "Subject1: 98\n",
      "Subject2: 87\n",
      "Subject3: 95\n",
      "Subject3: 95\n",
      "Subject5: 93\n"
     ]
    },
    {
     "name": "stdout",
     "output_type": "stream",
     "text": [
      "Total : 468\n",
      "Percentage : 93.60000000000001\n"
     ]
    }
   ],
   "source": [
    "sub1=int(input(\"Subject1:\"))\n",
    "sub2=int(input(\"Subject2:\"))\n",
    "sub3=int(input(\"Subject3:\"))\n",
    "sub4=int(input(\"Subject3:\"))\n",
    "sub5=int(input(\"Subject5:\"))\n",
    "percentage(sub1,sub2,sub3,sub4,sub5)\n",
    "\n",
    "\n",
    "          "
   ]
  },
  {
   "cell_type": "code",
   "execution_count": 73,
   "id": "852d6201-1458-4fd4-9faa-afaadc6f5dec",
   "metadata": {},
   "outputs": [],
   "source": [
    "def trianglearea(height,breadth):\n",
    "    area=(height*breadth)/2\n",
    "    return area\n",
    "    "
   ]
  },
  {
   "cell_type": "code",
   "execution_count": 81,
   "id": "a6944d32-3c1d-465f-8cf9-76241a8f0b55",
   "metadata": {},
   "outputs": [],
   "source": [
    "def triangleperimeter(height1,height2,breadth):\n",
    "    perimeter=(height1+height2+breadth)\n",
    "    return perimeter"
   ]
  },
  {
   "cell_type": "code",
   "execution_count": 83,
   "id": "f3514909-8b9a-418d-822d-b9b8f604cc14",
   "metadata": {},
   "outputs": [
    {
     "name": "stdin",
     "output_type": "stream",
     "text": [
      "Height: 32\n",
      "Breadth: 34\n"
     ]
    },
    {
     "name": "stdout",
     "output_type": "stream",
     "text": [
      "Area formula: (Height*Breadth)/2\n",
      "Area of Triangle: 544.0\n"
     ]
    },
    {
     "name": "stdin",
     "output_type": "stream",
     "text": [
      "Height1: 2\n",
      "Height2: 4\n",
      "Breadth: 4\n"
     ]
    },
    {
     "name": "stdout",
     "output_type": "stream",
     "text": [
      "Perimeter formula: Height1+Height2+Breadth\n",
      "Perimeter of Triangle: 10\n"
     ]
    }
   ],
   "source": [
    "height=int(input(\"Height:\"))\n",
    "breadth=int(input(\"Breadth:\"))\n",
    "print(\"Area formula: (Height*Breadth)/2\")\n",
    "area=trianglearea(height,breadth)\n",
    "print(\"Area of Triangle:\",area)\n",
    "height1=int(input(\"Height1:\"))\n",
    "height2=int(input(\"Height2:\"))\n",
    "breadth=int(input(\"Breadth:\"))\n",
    "print(\"Perimeter formula: Height1+Height2+Breadth\")\n",
    "perimeter=triangleperimeter(height1,height2,breadth)\n",
    "print(\"Perimeter of Triangle:\",perimeter)"
   ]
  },
  {
   "cell_type": "code",
   "execution_count": null,
   "id": "961b0484-3be0-4056-90d6-0e441c924741",
   "metadata": {},
   "outputs": [],
   "source": []
  }
 ],
 "metadata": {
  "kernelspec": {
   "display_name": "Python [conda env:base] *",
   "language": "python",
   "name": "conda-base-py"
  },
  "language_info": {
   "codemirror_mode": {
    "name": "ipython",
    "version": 3
   },
   "file_extension": ".py",
   "mimetype": "text/x-python",
   "name": "python",
   "nbconvert_exporter": "python",
   "pygments_lexer": "ipython3",
   "version": "3.12.7"
  }
 },
 "nbformat": 4,
 "nbformat_minor": 5
}
