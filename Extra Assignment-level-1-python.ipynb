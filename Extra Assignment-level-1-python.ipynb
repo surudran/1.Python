{
 "cells": [
  {
   "cell_type": "code",
   "execution_count": 1,
   "id": "e425bbea-237a-430a-96a1-8f7ea6a10cec",
   "metadata": {},
   "outputs": [],
   "source": [
    "#print statement"
   ]
  },
  {
   "cell_type": "code",
   "execution_count": 3,
   "id": "51faf36e-86be-464c-b78c-4e91ee440acf",
   "metadata": {},
   "outputs": [
    {
     "name": "stdout",
     "output_type": "stream",
     "text": [
      "HOPE AI\n"
     ]
    }
   ],
   "source": [
    "print(\"HOPE AI\")"
   ]
  },
  {
   "cell_type": "code",
   "execution_count": 5,
   "id": "deb3ae55-23f9-4363-9435-93f577309989",
   "metadata": {},
   "outputs": [],
   "source": [
    "#Buy input"
   ]
  },
  {
   "cell_type": "code",
   "execution_count": 68,
   "id": "faa8ee34-2592-4c53-b20f-b6853fb0d6c7",
   "metadata": {
    "scrolled": true
   },
   "outputs": [
    {
     "name": "stdin",
     "output_type": "stream",
     "text": [
      "Enter you name: Raj\n",
      "Enter your age: 15\n",
      "Enter your school name: Guru school\n",
      "Enter you degree: B.E CSE\n"
     ]
    },
    {
     "data": {
      "text/plain": [
       "'B.E CSE'"
      ]
     },
     "execution_count": 68,
     "metadata": {},
     "output_type": "execute_result"
    }
   ],
   "source": [
    "input(\"Enter you name:\")\n",
    "int(input(\"Enter your age:\"))\n",
    "input(\"Enter your school name:\")\n",
    "input(\"Enter you degree:\")"
   ]
  },
  {
   "cell_type": "code",
   "execution_count": 17,
   "id": "9724c04c-4ed6-46e3-8d96-af9b4e2311f8",
   "metadata": {},
   "outputs": [],
   "source": [
    "#Addition"
   ]
  },
  {
   "cell_type": "code",
   "execution_count": 19,
   "id": "cd84c97b-5021-4a55-aad7-6d95233b2979",
   "metadata": {},
   "outputs": [
    {
     "name": "stdout",
     "output_type": "stream",
     "text": [
      "a= 43\n",
      "b= 34\n",
      "add = 77\n"
     ]
    }
   ],
   "source": [
    "a=43\n",
    "b=34\n",
    "print(\"a=\",a)\n",
    "print(\"b=\",b)\n",
    "print(\"add =\",43+34)"
   ]
  },
  {
   "cell_type": "code",
   "execution_count": 21,
   "id": "6d38abd4-a5dd-4a5f-bd5d-d03d4908807f",
   "metadata": {},
   "outputs": [],
   "source": [
    "#Subtraction"
   ]
  },
  {
   "cell_type": "code",
   "execution_count": 25,
   "id": "747c780c-ab6d-4533-9742-2ab68e11cf19",
   "metadata": {},
   "outputs": [
    {
     "name": "stdout",
     "output_type": "stream",
     "text": [
      "a= 43\n",
      "b= 34\n",
      "Sub= 9\n"
     ]
    }
   ],
   "source": [
    "a=43\n",
    "b=34\n",
    "print(\"a=\",a)\n",
    "print(\"b=\",b)\n",
    "print(\"Sub=\",a-b)"
   ]
  },
  {
   "cell_type": "code",
   "execution_count": 27,
   "id": "96269f79-54f0-4aee-8ac3-025739d06b8d",
   "metadata": {},
   "outputs": [],
   "source": [
    "#Multiplication"
   ]
  },
  {
   "cell_type": "code",
   "execution_count": 31,
   "id": "4bfc1d96-dbd6-4a67-939b-2b7f75041dfa",
   "metadata": {},
   "outputs": [
    {
     "name": "stdout",
     "output_type": "stream",
     "text": [
      "a= 63\n",
      "b= 97\n",
      "Mul= 6111\n"
     ]
    }
   ],
   "source": [
    "a=63\n",
    "b=97\n",
    "print(\"a=\",a)\n",
    "print(\"b=\",b)\n",
    "print(\"Mul=\",a*b)"
   ]
  },
  {
   "cell_type": "code",
   "execution_count": 33,
   "id": "d5a0b15a-6268-4758-9268-a842c2356db4",
   "metadata": {},
   "outputs": [],
   "source": [
    "#Division"
   ]
  },
  {
   "cell_type": "code",
   "execution_count": 35,
   "id": "8e4a5fc3-fbdb-4bd1-af14-10877085c069",
   "metadata": {},
   "outputs": [
    {
     "name": "stdout",
     "output_type": "stream",
     "text": [
      "a= 76\n",
      "b= 31\n",
      "Float Div= 2.4516129032258065\n"
     ]
    }
   ],
   "source": [
    "a=76\n",
    "b=31\n",
    "print(\"a=\",a)\n",
    "print(\"b=\",b)\n",
    "print(\"Float Div=\",a/b)"
   ]
  },
  {
   "cell_type": "code",
   "execution_count": 37,
   "id": "55ba0c4b-e497-4c5a-8bcf-fad6681c3e9c",
   "metadata": {},
   "outputs": [],
   "source": [
    "#Floor division"
   ]
  },
  {
   "cell_type": "code",
   "execution_count": 51,
   "id": "05fc4b70-f41e-4aa5-81fa-996a89812e97",
   "metadata": {},
   "outputs": [
    {
     "name": "stdout",
     "output_type": "stream",
     "text": [
      "a= 76\n",
      "b= 31\n",
      "Floor Div= 2\n"
     ]
    }
   ],
   "source": [
    "a=76\n",
    "b=31\n",
    "print(\"a=\",a)\n",
    "print(\"b=\",b)\n",
    "print(\"Floor Div=\",int(a/b))"
   ]
  },
  {
   "cell_type": "code",
   "execution_count": 53,
   "id": "89acecea-81f3-4045-b528-c7a70160bf91",
   "metadata": {},
   "outputs": [],
   "source": [
    "#Module"
   ]
  },
  {
   "cell_type": "code",
   "execution_count": 55,
   "id": "267a9a72-cf55-4e88-8b78-a74ffffdc804",
   "metadata": {},
   "outputs": [
    {
     "name": "stdout",
     "output_type": "stream",
     "text": [
      "a= 76\n",
      "b= 31\n",
      "Module= 14\n"
     ]
    }
   ],
   "source": [
    "a=76\n",
    "b=31\n",
    "print(\"a=\",a)\n",
    "print(\"b=\",b)\n",
    "print(\"Module=\",a%b)"
   ]
  },
  {
   "cell_type": "code",
   "execution_count": 47,
   "id": "515e6960-c897-4db9-bbde-0353438f20bc",
   "metadata": {},
   "outputs": [],
   "source": [
    "#Power"
   ]
  },
  {
   "cell_type": "code",
   "execution_count": 65,
   "id": "1e91c913-4a41-4001-8afe-c9bcf86fad7c",
   "metadata": {},
   "outputs": [
    {
     "name": "stdout",
     "output_type": "stream",
     "text": [
      "a= 4\n",
      "b= 4\n",
      "Power= 256\n"
     ]
    }
   ],
   "source": [
    "a=4\n",
    "b=4\n",
    "print(\"a=\",a)\n",
    "print(\"b=\",b)\n",
    "print(\"Power=\",a**b)"
   ]
  },
  {
   "cell_type": "code",
   "execution_count": null,
   "id": "e52f20b5-5573-4f27-a352-9af4ca1469d7",
   "metadata": {},
   "outputs": [],
   "source": []
  },
  {
   "cell_type": "code",
   "execution_count": null,
   "id": "d7dca019-2afd-428e-aec7-b40d6697c763",
   "metadata": {},
   "outputs": [],
   "source": []
  }
 ],
 "metadata": {
  "kernelspec": {
   "display_name": "Python [conda env:base] *",
   "language": "python",
   "name": "conda-base-py"
  },
  "language_info": {
   "codemirror_mode": {
    "name": "ipython",
    "version": 3
   },
   "file_extension": ".py",
   "mimetype": "text/x-python",
   "name": "python",
   "nbconvert_exporter": "python",
   "pygments_lexer": "ipython3",
   "version": "3.12.7"
  }
 },
 "nbformat": 4,
 "nbformat_minor": 5
}
