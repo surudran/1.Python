{
 "cells": [
  {
   "cell_type": "code",
   "execution_count": 1,
   "id": "ecaada37-8cf0-4474-8319-5d767fc35f71",
   "metadata": {},
   "outputs": [],
   "source": [
    "# print 'CORRECT' if i == 10"
   ]
  },
  {
   "cell_type": "code",
   "execution_count": 11,
   "id": "47340555-8dde-44ae-9815-691ca4dd9fc9",
   "metadata": {},
   "outputs": [
    {
     "name": "stdin",
     "output_type": "stream",
     "text": [
      "value 10\n"
     ]
    },
    {
     "name": "stdout",
     "output_type": "stream",
     "text": [
      "Correct\n"
     ]
    }
   ],
   "source": [
    "i=int(input(\"value\"))\n",
    "if i==10:\n",
    "    print(\"Correct\")\n",
    "      "
   ]
  },
  {
   "cell_type": "code",
   "execution_count": 13,
   "id": "984f5e44-b85d-4aaa-b8d3-ce6cb6cefc45",
   "metadata": {},
   "outputs": [],
   "source": [
    "# Check the password, using if and else"
   ]
  },
  {
   "cell_type": "code",
   "execution_count": 71,
   "id": "ba1e7595-1048-4dd8-81e1-15d13f2d1412",
   "metadata": {},
   "outputs": [
    {
     "name": "stdin",
     "output_type": "stream",
     "text": [
      "Enter the password: HOPE@123\n"
     ]
    },
    {
     "name": "stdout",
     "output_type": "stream",
     "text": [
      "Your password is correct\n"
     ]
    }
   ],
   "source": [
    "password = 'HOPE@123'\n",
    "pwd = input(\"Enter the password:\")\n",
    "if (pwd==password):\n",
    "    print(\"Your password is correct\")\n",
    "else:\n",
    "    print(\"Your password in not correct\")"
   ]
  },
  {
   "cell_type": "code",
   "execution_count": 29,
   "id": "2ff52ac4-fe51-4f0e-99fd-6f787b000a5f",
   "metadata": {},
   "outputs": [],
   "source": [
    "# Catagory the people by their age like childer, adult, citizen, senior citizen.."
   ]
  },
  {
   "cell_type": "code",
   "execution_count": 81,
   "id": "86f9bd68-bdcb-4de3-8779-f29782a6189e",
   "metadata": {
    "scrolled": true
   },
   "outputs": [
    {
     "name": "stdin",
     "output_type": "stream",
     "text": [
      "age: 20\n"
     ]
    },
    {
     "name": "stdout",
     "output_type": "stream",
     "text": [
      "Adult\n"
     ]
    }
   ],
   "source": [
    "age=int(input(\"age:\"))\n",
    "if (age<18):\n",
    "    print(\"Children\")\n",
    "elif (age<65):\n",
    "    print(\"Adult\")\n",
    "else:\n",
    "    print(\"Senior Citizen\")\n",
    "    "
   ]
  },
  {
   "cell_type": "code",
   "execution_count": 43,
   "id": "8eda496b-d390-4c54-9b77-b6120431aa82",
   "metadata": {},
   "outputs": [],
   "source": [
    "# Find whether given nubmer is positive or negative"
   ]
  },
  {
   "cell_type": "code",
   "execution_count": 95,
   "id": "d1caacbb-2ebd-48cc-8594-f11567453f05",
   "metadata": {},
   "outputs": [
    {
     "name": "stdin",
     "output_type": "stream",
     "text": [
      "Enter any number: 1\n"
     ]
    },
    {
     "name": "stdout",
     "output_type": "stream",
     "text": [
      "No is positive\n"
     ]
    }
   ],
   "source": [
    "num=int(input(\"Enter any number:\"))\n",
    "if (num>0):\n",
    "    print(\"No is positive\")\n",
    "elif (num<0):\n",
    "    print(\"No is negative\")\n",
    "else:\n",
    "    print(\" No is Zero or Non-negatiable\")"
   ]
  },
  {
   "cell_type": "code",
   "execution_count": 55,
   "id": "f93ff2c9-1791-4ae6-a9a6-1b8209261f2c",
   "metadata": {},
   "outputs": [],
   "source": [
    "# Check wheather the given nubmer is divisible by 5"
   ]
  },
  {
   "cell_type": "code",
   "execution_count": 99,
   "id": "61a64417-7c00-4e33-9d3f-8bc37e4f4cd2",
   "metadata": {},
   "outputs": [
    {
     "name": "stdin",
     "output_type": "stream",
     "text": [
      "Enter a number to check: 22\n"
     ]
    },
    {
     "name": "stdout",
     "output_type": "stream",
     "text": [
      "No is not divisible by 5\n"
     ]
    }
   ],
   "source": [
    "num=int(input(\"Enter a number to check:\"))\n",
    "if (num%5==0):\n",
    "    print(\"No is divisible by 5\")\n",
    "else:\n",
    "    print(\"No is not divisible by 5\")"
   ]
  },
  {
   "cell_type": "code",
   "execution_count": null,
   "id": "2145708d-bf8f-4b18-b60a-b5c1e207cfd1",
   "metadata": {},
   "outputs": [],
   "source": []
  }
 ],
 "metadata": {
  "kernelspec": {
   "display_name": "Python [conda env:base] *",
   "language": "python",
   "name": "conda-base-py"
  },
  "language_info": {
   "codemirror_mode": {
    "name": "ipython",
    "version": 3
   },
   "file_extension": ".py",
   "mimetype": "text/x-python",
   "name": "python",
   "nbconvert_exporter": "python",
   "pygments_lexer": "ipython3",
   "version": "3.12.7"
  }
 },
 "nbformat": 4,
 "nbformat_minor": 5
}
