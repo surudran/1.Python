{
 "cells": [
  {
   "cell_type": "code",
   "execution_count": 1,
   "id": "26b828ae-e096-4906-a3ef-f448ff22d8e3",
   "metadata": {},
   "outputs": [],
   "source": [
    "# Print 0 to 20 by using range"
   ]
  },
  {
   "cell_type": "code",
   "execution_count": 7,
   "id": "13f5fd3c-1598-4657-b309-4fcb81d34500",
   "metadata": {},
   "outputs": [
    {
     "name": "stdout",
     "output_type": "stream",
     "text": [
      "0\n",
      "1\n",
      "2\n",
      "3\n",
      "4\n",
      "5\n",
      "6\n",
      "7\n",
      "8\n",
      "9\n",
      "10\n",
      "11\n",
      "12\n",
      "13\n",
      "14\n",
      "15\n",
      "16\n",
      "17\n",
      "18\n",
      "19\n"
     ]
    }
   ],
   "source": [
    "for num in range(0,20):\n",
    "    print(num)"
   ]
  },
  {
   "cell_type": "code",
   "execution_count": 9,
   "id": "59f3aa00-25db-48e0-9ec3-0dfd92eccd2d",
   "metadata": {},
   "outputs": [],
   "source": [
    "# Print range 10 to 20"
   ]
  },
  {
   "cell_type": "code",
   "execution_count": 49,
   "id": "40c79521-54a2-473e-a180-382c5aceb8b7",
   "metadata": {},
   "outputs": [
    {
     "name": "stdout",
     "output_type": "stream",
     "text": [
      "10 11 12 13 14 15 16 17 18 19 "
     ]
    }
   ],
   "source": [
    "for num in range(10,20):\n",
    "    print(num,end=' ')"
   ]
  },
  {
   "cell_type": "code",
   "execution_count": 13,
   "id": "7823147f-46f1-4e44-a1bf-20848e5de453",
   "metadata": {},
   "outputs": [],
   "source": [
    "# Print number of items in the list by using 'len\""
   ]
  },
  {
   "cell_type": "code",
   "execution_count": 45,
   "id": "4332e7c7-aeee-46bf-9786-b7b35ea6bde3",
   "metadata": {},
   "outputs": [
    {
     "name": "stdout",
     "output_type": "stream",
     "text": [
      "[10, 20, 14, 55, 43, 87, 76]\n",
      "Number of item in the List2:\n",
      " 7\n"
     ]
    }
   ],
   "source": [
    "List2=[10, 20, 14, 55, 43, 87, 76]\n",
    "print(List2)\n",
    "print(\"Number of item in the List2:\\n\",len(lists))"
   ]
  },
  {
   "cell_type": "code",
   "execution_count": 55,
   "id": "37232015-31d6-44eb-9dd4-b33ec0ab11af",
   "metadata": {},
   "outputs": [
    {
     "name": "stdout",
     "output_type": "stream",
     "text": [
      "Artificial Intelligence\n",
      "A\n",
      "r\n",
      "t\n",
      "i\n",
      "f\n",
      "i\n",
      "c\n",
      "i\n",
      "a\n",
      "l\n",
      " \n",
      "I\n",
      "n\n",
      "t\n",
      "e\n",
      "l\n",
      "l\n",
      "i\n",
      "g\n",
      "e\n",
      "n\n",
      "c\n",
      "e\n"
     ]
    }
   ],
   "source": [
    "title=\"Artificial Intelligence\"\n",
    "print(title)\n",
    "for letters in title:\n",
    "    print(letters)"
   ]
  },
  {
   "cell_type": "code",
   "execution_count": 57,
   "id": "42b34000-b971-41ab-b096-cbe6abef1887",
   "metadata": {},
   "outputs": [
    {
     "name": "stdout",
     "output_type": "stream",
     "text": [
      "-Your Name-\n",
      "-Your Age-\n",
      "-Your Profession-\n"
     ]
    }
   ],
   "source": [
    "print(\"-Your Name-\")\n",
    "print(\"-Your Age-\")\n",
    "print(\"-Your Profession-\")"
   ]
  },
  {
   "cell_type": "code",
   "execution_count": 77,
   "id": "ca2319c2-3b35-4b0c-a3d8-188dd8b4963a",
   "metadata": {},
   "outputs": [],
   "source": [
    "# print this mixered datatype using Tuples"
   ]
  },
  {
   "cell_type": "code",
   "execution_count": 65,
   "id": "dc18b78a-109e-49dd-ab7a-f4fa830ce667",
   "metadata": {},
   "outputs": [
    {
     "name": "stdout",
     "output_type": "stream",
     "text": [
      "(1, 'Welcome', 2, 'Hope')\n"
     ]
    }
   ],
   "source": [
    "tup=(1,'Welcome',2,'Hope')\n",
    "print(tup)"
   ]
  },
  {
   "cell_type": "code",
   "execution_count": 75,
   "id": "89d6b1a0-86f0-4ffe-b536-cb21825e5647",
   "metadata": {},
   "outputs": [
    {
     "name": "stdout",
     "output_type": "stream",
     "text": [
      "((0, 1, 2, 3), ('python', 'HOPE'))\n"
     ]
    }
   ],
   "source": [
    "Tuple1=(0,1,2,3)\n",
    "Tuple2=('python','HOPE')\n",
    "print((Tuple1,Tuple2))"
   ]
  },
  {
   "cell_type": "code",
   "execution_count": 79,
   "id": "7a457dbc-f6c1-4e8b-b593-421e679ca538",
   "metadata": {},
   "outputs": [],
   "source": [
    "# print Odd Nubmers in the list"
   ]
  },
  {
   "cell_type": "code",
   "execution_count": 91,
   "id": "8b02fe09-3221-4bcd-851a-114548238307",
   "metadata": {},
   "outputs": [
    {
     "name": "stdout",
     "output_type": "stream",
     "text": [
      "19 is odd\n",
      "25 is odd\n",
      "1 is odd\n"
     ]
    }
   ],
   "source": [
    "list=[20,10,16,19,25,1,276,188]\n",
    "for i in list:\n",
    "    if ((i%2) == 1):\n",
    "        print(i, \"is odd\")"
   ]
  },
  {
   "cell_type": "code",
   "execution_count": 87,
   "id": "7c982a7e-3593-48b5-81df-f8e55959ed61",
   "metadata": {},
   "outputs": [],
   "source": [
    "# print Even numbers in the list"
   ]
  },
  {
   "cell_type": "code",
   "execution_count": 93,
   "id": "635f0f1a-dec7-4d7c-8c6c-bb22a8526a65",
   "metadata": {},
   "outputs": [
    {
     "name": "stdout",
     "output_type": "stream",
     "text": [
      "20 is even\n",
      "10 is even\n",
      "16 is even\n",
      "276 is even\n",
      "188 is even\n"
     ]
    }
   ],
   "source": [
    "list=[20,10,16,19,25,1,276,188]\n",
    "for i in list:\n",
    "    if ((i%2) == 0):\n",
    "        print(i, \"is even\")"
   ]
  },
  {
   "cell_type": "code",
   "execution_count": null,
   "id": "64c05ab8-291a-42e8-a744-30def68b57b6",
   "metadata": {},
   "outputs": [],
   "source": []
  }
 ],
 "metadata": {
  "kernelspec": {
   "display_name": "Python [conda env:base] *",
   "language": "python",
   "name": "conda-base-py"
  },
  "language_info": {
   "codemirror_mode": {
    "name": "ipython",
    "version": 3
   },
   "file_extension": ".py",
   "mimetype": "text/x-python",
   "name": "python",
   "nbconvert_exporter": "python",
   "pygments_lexer": "ipython3",
   "version": "3.12.7"
  }
 },
 "nbformat": 4,
 "nbformat_minor": 5
}
